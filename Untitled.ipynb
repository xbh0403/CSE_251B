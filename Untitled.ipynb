{
 "cells": [
  {
   "cell_type": "code",
   "execution_count": 1,
   "id": "38ca00c3-7604-4e6e-9455-bb76ee1ad9dd",
   "metadata": {},
   "outputs": [],
   "source": [
    "import numpy as np\n",
    "\n",
    "def compute_global_stats(npz_path, split='train'):\n",
    "    data = np.load(npz_path)['data']       # [N, num_agents, 110, 6]\n",
    "    # 如果只想用 focal agent 的 50 帧做统计：\n",
    "    focal_hist = data[:, 0, :50, :]        # [N, 50, 6]\n",
    "    flattened = focal_hist.reshape(-1, 6)  # [N*50, 6]\n",
    "    mean_vec = np.mean(flattened, axis=0)  # [6,]\n",
    "    std_vec  = np.std(flattened, axis=0)   # [6,]\n",
    "    std_vec  = np.where(std_vec < 1e-6, 1.0, std_vec)\n",
    "    return mean_vec, std_vec\n"
   ]
  },
  {
   "cell_type": "code",
   "execution_count": 2,
   "id": "25bdd2b1-79bd-4612-a844-b01831420472",
   "metadata": {},
   "outputs": [
    {
     "name": "stdout",
     "output_type": "stream",
     "text": [
      "Saved mean_vector.npy and std_vector.npy\n"
     ]
    }
   ],
   "source": [
    "train_npz = \"data/train.npz\"\n",
    "mean_vec, std_vec = compute_global_stats(train_npz)\n",
    "np.save(\"mean_vector.npy\", mean_vec)\n",
    "np.save(\"std_vector.npy\",  std_vec)\n",
    "print(\"Saved mean_vector.npy and std_vector.npy\")"
   ]
  },
  {
   "cell_type": "code",
   "execution_count": null,
   "id": "60eb02a0-2533-4fd9-a912-ae064f3053d9",
   "metadata": {},
   "outputs": [],
   "source": []
  }
 ],
 "metadata": {
  "kernelspec": {
   "display_name": "Python 3 (ipykernel)",
   "language": "python",
   "name": "python3"
  },
  "language_info": {
   "codemirror_mode": {
    "name": "ipython",
    "version": 3
   },
   "file_extension": ".py",
   "mimetype": "text/x-python",
   "name": "python",
   "nbconvert_exporter": "python",
   "pygments_lexer": "ipython3",
   "version": "3.8.20"
  }
 },
 "nbformat": 4,
 "nbformat_minor": 5
}
