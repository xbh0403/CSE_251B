{
 "cells": [
  {
   "cell_type": "code",
   "execution_count": 6,
   "id": "968ecb27",
   "metadata": {},
   "outputs": [],
   "source": [
    "import os\n",
    "current_dir = os.getcwd()\n",
    "if \"tscc\" in current_dir:\n",
    "    os.chdir(\"/tscc/nfs/home/bax001/scratch/CSE_251B\")"
   ]
  },
  {
   "cell_type": "code",
   "execution_count": 1,
   "id": "ad5cc2d4",
   "metadata": {},
   "outputs": [],
   "source": [
    "import numpy as np\n",
    "import torch\n",
    "from torch.utils.data import Dataset, DataLoader"
   ]
  },
  {
   "cell_type": "markdown",
   "id": "df1b77a8",
   "metadata": {},
   "source": [
    "## LOAD INPUT DATA"
   ]
  },
  {
   "cell_type": "code",
   "execution_count": 9,
   "id": "98e508f2",
   "metadata": {},
   "outputs": [],
   "source": [
    "train = np.load(\"data/train.npz\")"
   ]
  },
  {
   "cell_type": "code",
   "execution_count": 13,
   "id": "ca275bf8",
   "metadata": {},
   "outputs": [],
   "source": [
    "train_data = train[\"data\"]"
   ]
  },
  {
   "cell_type": "markdown",
   "id": "c20a32a6",
   "metadata": {},
   "source": [
    "## DATASET and DATALOADER"
   ]
  },
  {
   "cell_type": "code",
   "execution_count": 7,
   "id": "696c04d9",
   "metadata": {},
   "outputs": [
    {
     "name": "stdout",
     "output_type": "stream",
     "text": [
      "torch.Size([64, 50, 110, 2])\n",
      "torch.Size([64, 50, 110, 2])\n",
      "torch.Size([64, 50, 110])\n",
      "torch.Size([64, 50, 110])\n"
     ]
    }
   ],
   "source": [
    "class AgentTrajectoryDataset(Dataset):\n",
    "    def __init__(self, npz_file_path):\n",
    "        \"\"\"\n",
    "        Args:\n",
    "            npz_file_path (str): Path to .npz file.\n",
    "        \"\"\"\n",
    "        super().__init__()\n",
    "        data = np.load(npz_file_path)\n",
    "        self.data = data['data']  # (N, 50, T, 6)\n",
    "        \n",
    "    def __len__(self):\n",
    "        return self.data.shape[0]\n",
    "    \n",
    "    def __getitem__(self, idx):\n",
    "        sample = self.data[idx]  # (50, T, 6)\n",
    "        \n",
    "        position = sample[..., 0:2]    # (50, T, 2)\n",
    "        velocity = sample[..., 2:4]    # (50, T, 2)\n",
    "        heading = sample[..., 4]       # (50, T)\n",
    "        object_type = sample[..., 5]   # (50, T)\n",
    "\n",
    "        return {\n",
    "            'position': torch.tensor(position, dtype=torch.float32),\n",
    "            'velocity': torch.tensor(velocity, dtype=torch.float32),\n",
    "            'heading': torch.tensor(heading, dtype=torch.float32),\n",
    "            'object_type': torch.tensor(object_type, dtype=torch.long)\n",
    "        }\n",
    "\n",
    "# Instantiate datasets\n",
    "train_dataset = AgentTrajectoryDataset('data/train.npz')\n",
    "test_dataset = AgentTrajectoryDataset('data/test_input.npz')\n",
    "\n",
    "# Create dataloaders\n",
    "train_loader = DataLoader(train_dataset, batch_size=64, shuffle=True)\n",
    "test_loader = DataLoader(test_dataset, batch_size=64, shuffle=False)\n",
    "\n",
    "# Example: peek at one batch\n",
    "batch = next(iter(train_loader))\n",
    "print(batch['position'].shape)     # (64, 50, 110, 2)\n",
    "print(batch['velocity'].shape)     # (64, 50, 110, 2)\n",
    "print(batch['heading'].shape)      # (64, 50, 110)\n",
    "print(batch['object_type'].shape)  # (64, 50, 110)"
   ]
  },
  {
   "cell_type": "markdown",
   "id": "dd52d226",
   "metadata": {},
   "source": [
    "## Train Val Test Split"
   ]
  },
  {
   "cell_type": "code",
   "execution_count": 14,
   "id": "53cda629",
   "metadata": {},
   "outputs": [
    {
     "name": "stdout",
     "output_type": "stream",
     "text": [
      "Train samples: 8000\n",
      "Validation samples: 2000\n",
      "Test samples: 2100\n"
     ]
    }
   ],
   "source": [
    "from torch.utils.data import random_split\n",
    "\n",
    "# 80% train, 20% val split\n",
    "train_size = int(0.8 * len(train_dataset))\n",
    "val_size = len(train_dataset) - train_size\n",
    "\n",
    "train_dataset, val_dataset = random_split(train_dataset, [train_size, val_size])\n",
    "\n",
    "# Create DataLoaders\n",
    "train_loader = DataLoader(train_dataset, batch_size=64, shuffle=True)\n",
    "val_loader = DataLoader(val_dataset, batch_size=64, shuffle=False)\n",
    "test_loader = DataLoader(test_dataset, batch_size=64, shuffle=False)\n",
    "\n",
    "print(f\"Train samples: {len(train_dataset)}\")\n",
    "print(f\"Validation samples: {len(val_dataset)}\")\n",
    "print(f\"Test samples: {len(test_dataset)}\")\n"
   ]
  },
  {
   "cell_type": "markdown",
   "id": "86a09f7a",
   "metadata": {},
   "source": [
    "## MODEL DEF"
   ]
  },
  {
   "cell_type": "code",
   "execution_count": null,
   "id": "f773b8be",
   "metadata": {},
   "outputs": [],
   "source": []
  },
  {
   "cell_type": "markdown",
   "id": "a0b254c6",
   "metadata": {},
   "source": [
    "## Training loop"
   ]
  },
  {
   "cell_type": "code",
   "execution_count": null,
   "id": "fe314deb",
   "metadata": {},
   "outputs": [],
   "source": []
  },
  {
   "cell_type": "markdown",
   "id": "1e0d1733",
   "metadata": {},
   "source": [
    "## Run on test set"
   ]
  },
  {
   "cell_type": "code",
   "execution_count": null,
   "id": "c3efba3d",
   "metadata": {},
   "outputs": [],
   "source": []
  },
  {
   "cell_type": "markdown",
   "id": "74135efc",
   "metadata": {},
   "source": [
    "## Run on external test set and submit to Kaggle"
   ]
  },
  {
   "cell_type": "code",
   "execution_count": null,
   "id": "dc2f8b67",
   "metadata": {},
   "outputs": [],
   "source": []
  }
 ],
 "metadata": {
  "kernelspec": {
   "display_name": "Python 3 (ipykernel)",
   "language": "python",
   "name": "python3"
  },
  "language_info": {
   "codemirror_mode": {
    "name": "ipython",
    "version": 3
   },
   "file_extension": ".py",
   "mimetype": "text/x-python",
   "name": "python",
   "nbconvert_exporter": "python",
   "pygments_lexer": "ipython3",
   "version": "3.12.9"
  }
 },
 "nbformat": 4,
 "nbformat_minor": 5
}
