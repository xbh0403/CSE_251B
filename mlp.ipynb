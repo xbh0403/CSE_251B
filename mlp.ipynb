{
 "cells": [
  {
   "cell_type": "code",
   "execution_count": 6,
   "id": "968ecb27",
   "metadata": {},
   "outputs": [],
   "source": [
    "import os\n",
    "current_dir = os.getcwd()\n",
    "if \"tscc\" in current_dir:\n",
    "    os.chdir(\"/tscc/nfs/home/bax001/scratch/CSE_251B\")"
   ]
  },
  {
   "cell_type": "code",
   "execution_count": 1,
   "id": "ad5cc2d4",
   "metadata": {},
   "outputs": [],
   "source": [
    "import numpy as np\n",
    "import torch\n",
    "from torch.utils.data import Dataset, DataLoader"
   ]
  },
  {
   "cell_type": "markdown",
   "id": "df1b77a8",
   "metadata": {},
   "source": [
    "## LOAD INPUT DATA"
   ]
  },
  {
   "cell_type": "code",
   "execution_count": 9,
   "id": "98e508f2",
   "metadata": {},
   "outputs": [],
   "source": [
    "train = np.load(\"data/train.npz\")"
   ]
  },
  {
   "cell_type": "code",
   "execution_count": 13,
   "id": "ca275bf8",
   "metadata": {},
   "outputs": [],
   "source": [
    "train_data = train[\"data\"]"
   ]
  },
  {
   "cell_type": "markdown",
   "id": "c20a32a6",
   "metadata": {},
   "source": [
    "## DATASET and DATALOADER"
   ]
  },
  {
   "cell_type": "code",
   "execution_count": 7,
   "id": "696c04d9",
   "metadata": {},
   "outputs": [
    {
     "name": "stdout",
     "output_type": "stream",
     "text": [
      "torch.Size([64, 50, 110, 2])\n",
      "torch.Size([64, 50, 110, 2])\n",
      "torch.Size([64, 50, 110])\n",
      "torch.Size([64, 50, 110])\n"
     ]
    }
   ],
   "source": [
    "class AgentTrajectoryDataset(Dataset):\n",
    "    def __init__(self, npz_file_path):\n",
    "        \"\"\"\n",
    "        Args:\n",
    "            npz_file_path (str): Path to .npz file.\n",
    "        \"\"\"\n",
    "        super().__init__()\n",
    "        data = np.load(npz_file_path)\n",
    "        self.data = data['data']  # (N, 50, T, 6)\n",
    "        \n",
    "    def __len__(self):\n",
    "        return self.data.shape[0]\n",
    "    \n",
    "    def __getitem__(self, idx):\n",
    "        sample = self.data[idx]  # (50, T, 6)\n",
    "        \n",
    "        position = sample[..., 0:2]    # (50, T, 2)\n",
    "        velocity = sample[..., 2:4]    # (50, T, 2)\n",
    "        heading = sample[..., 4]       # (50, T)\n",
    "        object_type = sample[..., 5]   # (50, T)\n",
    "\n",
    "        return {\n",
    "            'position': torch.tensor(position, dtype=torch.float32),\n",
    "            'velocity': torch.tensor(velocity, dtype=torch.float32),\n",
    "            'heading': torch.tensor(heading, dtype=torch.float32),\n",
    "            'object_type': torch.tensor(object_type, dtype=torch.long)\n",
    "        }\n",
    "\n",
    "# Instantiate datasets\n",
    "train_dataset = AgentTrajectoryDataset('data/train.npz')\n",
    "test_dataset = AgentTrajectoryDataset('data/test_input.npz')\n",
    "\n",
    "# Create dataloaders\n",
    "train_loader = DataLoader(train_dataset, batch_size=64, shuffle=True)\n",
    "test_loader = DataLoader(test_dataset, batch_size=64, shuffle=False)\n",
    "\n",
    "# Example: peek at one batch\n",
    "batch = next(iter(train_loader))\n",
    "print(batch['position'].shape)     # (64, 50, 110, 2)\n",
    "print(batch['velocity'].shape)     # (64, 50, 110, 2)\n",
    "print(batch['heading'].shape)      # (64, 50, 110)\n",
    "print(batch['object_type'].shape)  # (64, 50, 110)"
   ]
  },
  {
   "cell_type": "markdown",
   "id": "dd52d226",
   "metadata": {},
   "source": [
    "## Train Val Test Split"
   ]
  },
  {
   "cell_type": "code",
   "execution_count": 14,
   "id": "53cda629",
   "metadata": {},
   "outputs": [
    {
     "name": "stdout",
     "output_type": "stream",
     "text": [
      "Train samples: 8000\n",
      "Validation samples: 2000\n",
      "Test samples: 2100\n"
     ]
    }
   ],
   "source": [
    "from torch.utils.data import random_split\n",
    "\n",
    "# 80% train, 20% val split\n",
    "train_size = int(0.8 * len(train_dataset))\n",
    "val_size = len(train_dataset) - train_size\n",
    "\n",
    "train_dataset, val_dataset = random_split(train_dataset, [train_size, val_size])\n",
    "\n",
    "# Create DataLoaders\n",
    "train_loader = DataLoader(train_dataset, batch_size=64, shuffle=True)\n",
    "val_loader = DataLoader(val_dataset, batch_size=64, shuffle=False)\n",
    "test_loader = DataLoader(test_dataset, batch_size=64, shuffle=False)\n",
    "\n",
    "print(f\"Train samples: {len(train_dataset)}\")\n",
    "print(f\"Validation samples: {len(val_dataset)}\")\n",
    "print(f\"Test samples: {len(test_dataset)}\")\n"
   ]
  },
  {
   "cell_type": "markdown",
   "id": "86a09f7a",
   "metadata": {},
   "source": [
    "## MODEL DEF"
   ]
  },
  {
   "cell_type": "code",
   "execution_count": null,
   "id": "f773b8be",
   "metadata": {},
   "outputs": [
    {
     "name": "stdout",
     "output_type": "stream",
     "text": [
      "AgentMLP(\n",
      "  (model): Sequential(\n",
      "    (0): Linear(in_features=11000, out_features=512, bias=True)\n",
      "    (1): ReLU()\n",
      "    (2): Linear(in_features=512, out_features=512, bias=True)\n",
      "    (3): ReLU()\n",
      "    (4): Linear(in_features=512, out_features=1, bias=True)\n",
      "  )\n",
      ")\n"
     ]
    }
   ],
   "source": [
    "# --- Model Definition Section ---\n",
    "\n",
    "import torch.nn as nn\n",
    "\n",
    "class AgentMLP(nn.Module):\n",
    "    def __init__(self, input_dim, hidden_dim, output_dim):\n",
    "        super(AgentMLP, self).__init__()\n",
    "        self.model = nn.Sequential(\n",
    "            nn.Linear(input_dim, hidden_dim),\n",
    "            nn.ReLU(),\n",
    "            nn.Linear(hidden_dim, hidden_dim),\n",
    "            nn.ReLU(),\n",
    "            nn.Linear(hidden_dim, output_dim)\n",
    "        )\n",
    "        \n",
    "    def forward(self, x):\n",
    "        return self.model(x)\n",
    "\n"
   ]
  },
  {
   "cell_type": "markdown",
   "id": "a0b254c6",
   "metadata": {},
   "source": [
    "## Training loop"
   ]
  },
  {
   "cell_type": "code",
   "execution_count": 17,
   "id": "fe314deb",
   "metadata": {},
   "outputs": [],
   "source": [
    "# --- Training Loop Section ---\n",
    "\n",
    "import torch.optim as optim\n",
    "\n",
    "def train_model(model, train_loader, val_loader, num_epochs=50, lr=1e-3, patience=5, device='cuda'):\n",
    "    \"\"\"\n",
    "    Train the model with early stopping on validation loss.\n",
    "    \"\"\"\n",
    "    model = model.to(device)\n",
    "    optimizer = optim.Adam(model.parameters(), lr=lr)\n",
    "    criterion = nn.MSELoss()  # Placeholder loss; change depending on your task\n",
    "    best_val_loss = float('inf')\n",
    "    patience_counter = 0\n",
    "\n",
    "    for epoch in range(num_epochs):\n",
    "        model.train()\n",
    "        train_loss = 0.0\n",
    "\n",
    "        for batch in train_loader:\n",
    "            inputs = batch['position'].to(device)  # (batch_size, 50, 110, 2)\n",
    "            inputs = inputs.view(inputs.size(0), -1)  # Flatten for MLP\n",
    "\n",
    "            targets = torch.zeros(inputs.size(0), 1, device=device)  # Dummy target, replace with your labels\n",
    "\n",
    "            optimizer.zero_grad()\n",
    "            outputs = model(inputs)\n",
    "            loss = criterion(outputs, targets)\n",
    "            loss.backward()\n",
    "            optimizer.step()\n",
    "\n",
    "            train_loss += loss.item()\n",
    "\n",
    "        train_loss /= len(train_loader)\n",
    "\n",
    "        # Validation\n",
    "        model.eval()\n",
    "        val_loss = 0.0\n",
    "        with torch.no_grad():\n",
    "            for batch in val_loader:\n",
    "                inputs = batch['position'].to(device)\n",
    "                inputs = inputs.view(inputs.size(0), -1)\n",
    "\n",
    "                targets = torch.zeros(inputs.size(0), 1, device=device)\n",
    "\n",
    "                outputs = model(inputs)\n",
    "                loss = criterion(outputs, targets)\n",
    "\n",
    "                val_loss += loss.item()\n",
    "\n",
    "        val_loss /= len(val_loader)\n",
    "\n",
    "        print(f\"Epoch {epoch+1}: Train Loss = {train_loss:.4f}, Val Loss = {val_loss:.4f}\")\n",
    "\n",
    "        # Early stopping\n",
    "        if val_loss < best_val_loss:\n",
    "            best_val_loss = val_loss\n",
    "            patience_counter = 0\n",
    "            torch.save(model.state_dict(), 'best_model.pth')\n",
    "        else:\n",
    "            patience_counter += 1\n",
    "\n",
    "        if patience_counter >= patience:\n",
    "            print(f\"Early stopping triggered at epoch {epoch+1}\")\n",
    "            break\n",
    "\n",
    "    print(\"Training complete. Best validation loss:\", best_val_loss)\n"
   ]
  },
  {
   "cell_type": "code",
   "execution_count": 18,
   "id": "406d25b7",
   "metadata": {},
   "outputs": [
    {
     "name": "stdout",
     "output_type": "stream",
     "text": [
      "Epoch 1: Train Loss = 10184459.7407, Val Loss = 58468.0651\n",
      "Epoch 2: Train Loss = 64713.4666, Val Loss = 148652.4160\n",
      "Epoch 3: Train Loss = 32536.1037, Val Loss = 8754.0025\n",
      "Epoch 4: Train Loss = 20561.2397, Val Loss = 25131.8058\n",
      "Epoch 5: Train Loss = 55391.8898, Val Loss = 4426.9980\n",
      "Epoch 6: Train Loss = 10749.5299, Val Loss = 8635.6568\n",
      "Epoch 7: Train Loss = 9259.2980, Val Loss = 3356.3224\n",
      "Epoch 8: Train Loss = 10858.4170, Val Loss = 3558.3267\n",
      "Epoch 9: Train Loss = 12638.1812, Val Loss = 9750.5086\n",
      "Epoch 10: Train Loss = 26469.0073, Val Loss = 53657.9272\n",
      "Epoch 11: Train Loss = 156024.7683, Val Loss = 21455.5379\n",
      "Epoch 12: Train Loss = 28435.9064, Val Loss = 7792.7537\n",
      "Early stopping triggered at epoch 12\n",
      "Training complete. Best validation loss: 3356.3223991394043\n"
     ]
    }
   ],
   "source": [
    "# Instantiate model\n",
    "model = AgentMLP(input_dim=50*110*2, hidden_dim=512, output_dim=1)\n",
    "\n",
    "# Train the model\n",
    "train_model(model, train_loader, val_loader, num_epochs=50, lr=1e-3, patience=5, device='cuda')\n"
   ]
  },
  {
   "cell_type": "markdown",
   "id": "1e0d1733",
   "metadata": {},
   "source": [
    "## Run on test set"
   ]
  },
  {
   "cell_type": "code",
   "execution_count": null,
   "id": "c3efba3d",
   "metadata": {},
   "outputs": [],
   "source": []
  },
  {
   "cell_type": "markdown",
   "id": "74135efc",
   "metadata": {},
   "source": [
    "## Run on external test set and submit to Kaggle"
   ]
  },
  {
   "cell_type": "code",
   "execution_count": null,
   "id": "dc2f8b67",
   "metadata": {},
   "outputs": [],
   "source": []
  }
 ],
 "metadata": {
  "kernelspec": {
   "display_name": "Python 3 (ipykernel)",
   "language": "python",
   "name": "python3"
  },
  "language_info": {
   "codemirror_mode": {
    "name": "ipython",
    "version": 3
   },
   "file_extension": ".py",
   "mimetype": "text/x-python",
   "name": "python",
   "nbconvert_exporter": "python",
   "pygments_lexer": "ipython3",
   "version": "3.12.9"
  }
 },
 "nbformat": 4,
 "nbformat_minor": 5
}
